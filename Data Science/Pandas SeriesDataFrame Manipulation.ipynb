{
  "cells": [
    {
      "cell_type": "code",
      "source": [
        "import pandas as pd"
      ],
      "metadata": {
        "id": "jy34nl6lCyO5"
      },
      "execution_count": 1,
      "outputs": []
    },
    {
      "cell_type": "code",
      "source": [
        "products = ['A', 'B', 'C', 'D']\n",
        "product_categories = pd.Series(products)\n",
        "additional_products = pd.Series(['E', 'F', 'G', 'H'])\n",
        "\n",
        "final_products = pd.concat([product_categories, additional_products], axis=0)"
      ],
      "metadata": {
        "id": "5agUabhgC6Tw"
      },
      "execution_count": 28,
      "outputs": []
    },
    {
      "cell_type": "code",
      "source": [
        "final_products"
      ],
      "metadata": {
        "id": "8E1PwjQgEMvP",
        "outputId": "495810c5-66f5-4873-b3a8-bf5eb22e569c",
        "colab": {
          "base_uri": "https://localhost:8080/"
        }
      },
      "execution_count": 29,
      "outputs": [
        {
          "output_type": "execute_result",
          "data": {
            "text/plain": [
              "0    A\n",
              "1    B\n",
              "2    C\n",
              "3    D\n",
              "0    E\n",
              "1    F\n",
              "2    G\n",
              "3    H\n",
              "dtype: object"
            ]
          },
          "metadata": {},
          "execution_count": 29
        }
      ]
    },
    {
      "cell_type": "code",
      "source": [
        "n = []\n",
        "final_products_size = final_products.size\n",
        "\n",
        "for i in range(final_products_size):\n",
        "  n.append(i)"
      ],
      "metadata": {
        "id": "v37i4fG6Jig_"
      },
      "execution_count": 31,
      "outputs": []
    },
    {
      "cell_type": "code",
      "source": [
        "n"
      ],
      "metadata": {
        "id": "ocN79DO1J60K",
        "outputId": "be5589f2-9851-4196-8d0b-2724b5782daa",
        "colab": {
          "base_uri": "https://localhost:8080/"
        }
      },
      "execution_count": 32,
      "outputs": [
        {
          "output_type": "execute_result",
          "data": {
            "text/plain": [
              "[0, 1, 2, 3, 4, 5, 6, 7]"
            ]
          },
          "metadata": {},
          "execution_count": 32
        }
      ]
    },
    {
      "cell_type": "code",
      "source": [
        "final_products.index = n\n",
        "final_products\n"
      ],
      "metadata": {
        "id": "IwyIFHRvKAhA",
        "outputId": "f0e08644-775c-4ef8-ae53-5706c43f71ef",
        "colab": {
          "base_uri": "https://localhost:8080/"
        }
      },
      "execution_count": 33,
      "outputs": [
        {
          "output_type": "execute_result",
          "data": {
            "text/plain": [
              "0    A\n",
              "1    B\n",
              "2    C\n",
              "3    D\n",
              "4    E\n",
              "5    F\n",
              "6    G\n",
              "7    H\n",
              "dtype: object"
            ]
          },
          "metadata": {},
          "execution_count": 33
        }
      ]
    }
  ],
  "metadata": {
    "colab": {
      "name": "Olá, este é o Colaboratory",
      "toc_visible": true,
      "provenance": []
    },
    "kernelspec": {
      "display_name": "Python 3",
      "name": "python3"
    }
  },
  "nbformat": 4,
  "nbformat_minor": 0
}